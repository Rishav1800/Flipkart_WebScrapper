{
 "cells": [
  {
   "cell_type": "code",
   "execution_count": 7,
   "id": "e947a932",
   "metadata": {},
   "outputs": [
    {
     "name": "stdout",
     "output_type": "stream",
     "text": [
      "Product Name: realme C30 (Denim Black, 32 GB)  (2 GB RAM)\n",
      "Product Price: ₹5,749\n"
     ]
    }
   ],
   "source": [
    "# Importing importnat libraries\n",
    "import requests\n",
    "from bs4 import BeautifulSoup\n",
    "\n",
    "#URL of the page \n",
    "URL = \"https://www.flipkart.com/realme-c30-denim-black-32-gb/p/itmfcf69b2db5059?pid=MOBGF37G8TGKHFWJ&lid=LSTMOBGF37G8TGKHFWJIST95C&marketplace=FLIPKART&q=realme+mobile&store=tyy%2F4io&srno=s_1_1&otracker=AS_Query_PredictiveAutoSuggest_2_0_na_na_na&otracker1=AS_Query_PredictiveAutoSuggest_2_0_na_na_na&fm=organic&iid=e61608e3-4e04-4755-ba43-6b9dcdb45b56.MOBGF37G8TGKHFWJ.SEARCH&ppt=clp&ppn=mobile-phones-store&ssid=nirbt4986o0000001680169585890&qH=1fa38e164777fe68\"\n",
    "\n",
    "# Set the headers to simulate a request from a web browser\n",
    "HEADERS = {\"User-Agent\": \"Mozilla/5.0 (Windows NT 10.0; Win64; x64) AppleWebKit/537.36 (KHTML, like Gecko) Chrome/111.0.0.0 Safari/537.36\"}\n",
    "\n",
    "# Send a GET request to the URL with the headers\n",
    "page = requests.get(URL, headers=HEADERS)\n",
    "\n",
    "# Create a BeautifulSoup object by parsing the HTML content of the response\n",
    "soup= BeautifulSoup(page.content, \"html.parser\")\n",
    "\n",
    "# Finding the requird data\n",
    "product_title = soup.find(\"span\",attrs={'class':'B_NuCI'}).text\n",
    "\n",
    "product_price = soup.find(\"div\",attrs={'class':'_30jeq3 _16Jk6d'}).text\n",
    "\n",
    "print(\"Product Name: \" + product_title)\n",
    "print(\"Product Price: \" + product_price)"
   ]
  },
  {
   "cell_type": "code",
   "execution_count": null,
   "id": "85c1672f",
   "metadata": {},
   "outputs": [],
   "source": []
  }
 ],
 "metadata": {
  "kernelspec": {
   "display_name": "Python 3 (ipykernel)",
   "language": "python",
   "name": "python3"
  },
  "language_info": {
   "codemirror_mode": {
    "name": "ipython",
    "version": 3
   },
   "file_extension": ".py",
   "mimetype": "text/x-python",
   "name": "python",
   "nbconvert_exporter": "python",
   "pygments_lexer": "ipython3",
   "version": "3.10.7"
  }
 },
 "nbformat": 4,
 "nbformat_minor": 5
}
